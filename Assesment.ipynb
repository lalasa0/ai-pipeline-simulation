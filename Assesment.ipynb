{
 "cells": [
  {
   "cell_type": "markdown",
   "id": "30dc8f8e",
   "metadata": {},
   "source": [
    "# 🧠 AI Assignment Notebook\n",
    "This notebook demonstrates the pipeline for an AI app that:\n",
    "1. Expands a user prompt using a mock LLM.\n",
    "2. Generates an image from the expanded prompt.\n",
    "3. Converts the image to a 3D model.\n",
    "\n",
    "All steps simulate interactions with local and external services."
   ]
  },
  {
   "cell_type": "markdown",
   "id": "e32c4ead",
   "metadata": {},
   "source": [
    "##  Imports and Setup"
   ]
  },
  {
   "cell_type": "code",
   "execution_count": 7,
   "id": "fa5eb6d0",
   "metadata": {},
   "outputs": [],
   "source": [
    "import random\n",
    "import uuid\n",
    "from PIL import Image\n",
    "from IPython.display import display, Markdown"
   ]
  },
  {
   "cell_type": "markdown",
   "id": "83249ad4",
   "metadata": {},
   "source": [
    "##  Step 1: User Prompt & Mock LLM Response"
   ]
  },
  {
   "cell_type": "code",
   "execution_count": 2,
   "id": "73bc13ec",
   "metadata": {},
   "outputs": [
    {
     "data": {
      "text/markdown": [
       "**Expanded Prompt:** Generate an ultra-realistic image of A futuristic vehicle flying over a neon city, with detailed lighting and vibrant atmosphere."
      ],
      "text/plain": [
       "<IPython.core.display.Markdown object>"
      ]
     },
     "metadata": {},
     "output_type": "display_data"
    }
   ],
   "source": [
    "user_prompt = \"A futuristic vehicle flying over a neon city\"\n",
    "\n",
    "# Mock LLM Expansion\n",
    "def mock_llm_expand(prompt):\n",
    "    return f\"Generate an ultra-realistic image of {prompt}, with detailed lighting and vibrant atmosphere.\"\n",
    "\n",
    "expanded_prompt = mock_llm_expand(user_prompt)\n",
    "display(Markdown(f\"**Expanded Prompt:** {expanded_prompt}\"))"
   ]
  },
  {
   "cell_type": "markdown",
   "id": "735625ea",
   "metadata": {},
   "source": [
    "##  Step 2: Simulated Text-to-Image Generation"
   ]
  },
  {
   "cell_type": "code",
   "execution_count": 3,
   "id": "1cc1c126",
   "metadata": {},
   "outputs": [
    {
     "data": {
      "image/jpeg": "[encoded data removed]",
      "image/png": "[encoded data removed]",
      "text/plain": [
       "<PIL.PngImagePlugin.PngImageFile image mode=RGB size=256x256>"
      ]
     },
     "metadata": {},
     "output_type": "display_data"
    }
   ],
   "source": [
    "# Simulate image generation (in real scenario, call the T2I API)\n",
    "def generate_mock_image():\n",
    "    img = Image.new('RGB', (256, 256), color=(random.randint(0,255), random.randint(0,255), random.randint(0,255)))\n",
    "    img_path = f\"mock_image_{uuid.uuid4().hex[:6]}.png\"\n",
    "    img.save(img_path)\n",
    "    return img_path\n",
    "\n",
    "image_path = generate_mock_image()\n",
    "display(Image.open(image_path))"
   ]
  },
  {
   "cell_type": "markdown",
   "id": "edaf2e3d",
   "metadata": {},
   "source": [
    "## Step 3: Simulated Image-to-3D Conversion"
   ]
  },
  {
   "cell_type": "code",
   "execution_count": 8,
   "id": "0b40c3c0",
   "metadata": {},
   "outputs": [
    {
     "data": {
      "text/markdown": [
       " Generated 3D model: `3d_model_838ab0.obj`"
      ],
      "text/plain": [
       "<IPython.core.display.Markdown object>"
      ]
     },
     "metadata": {},
     "output_type": "display_data"
    }
   ],
   "source": [
    "\n",
    "# Simulate 3D model generation (return mock file name)\n",
    "def generate_mock_3d_model(image_file):\n",
    "    return f\"3d_model_{uuid.uuid4().hex[:6]}.obj\"\n",
    "\n",
    "model_file = generate_mock_3d_model(image_path)\n",
    "display(Markdown(f\" Generated 3D model: `{model_file}`\"))"
   ]
  },
  {
   "cell_type": "markdown",
   "id": "400f8655",
   "metadata": {},
   "source": [
    "##  Final Output Summary"
   ]
  },
  {
   "cell_type": "code",
   "execution_count": 6,
   "id": "4ab6b278",
   "metadata": {},
   "outputs": [
    {
     "name": "stdout",
     "output_type": "stream",
     "text": [
      "Original Prompt: A futuristic vehicle flying over a neon city\n",
      "Expanded Prompt: Generate an ultra-realistic image of A futuristic vehicle flying over a neon city, with detailed lighting and vibrant atmosphere.\n",
      "Image File: mock_image_a70730.png\n",
      "3D Model File: 3d_model_8593d8.obj\n"
     ]
    }
   ],
   "source": [
    "print(\"Original Prompt:\", user_prompt)\n",
    "print(\"Expanded Prompt:\", expanded_prompt)\n",
    "print(\"Image File:\", image_path)\n",
    "print(\"3D Model File:\", model_file)"
   ]
  },
  {
   "cell_type": "markdown",
   "id": "18c7608c",
   "metadata": {},
   "source": [
    "##  Conclusion\n",
    "This notebook simulates a full AI app pipeline:\n",
    "- A prompt expanded using a mocked local LLM\n",
    "- Image generation via Text-to-Image (simulated)\n",
    "- Image-to-3D conversion (simulated)\n",
    "\n",
    "In a real environment, API calls would replace mock functions. The structure and flow would remain the same."
   ]
  },
  {
   "cell_type": "code",
   "execution_count": null,
   "id": "7d98844b-d960-4d2e-ab25-488e7ace873d",
   "metadata": {},
   "outputs": [],
   "source": []
  }
 ],
 "metadata": {
  "kernelspec": {
   "display_name": "Python 3 (ipykernel)",
   "language": "python",
   "name": "python3"
  },
  "language_info": {
   "codemirror_mode": {
    "name": "ipython",
    "version": 3
   },
   "file_extension": ".py",
   "mimetype": "text/x-python",
   "name": "python",
   "nbconvert_exporter": "python",
   "pygments_lexer": "ipython3",
   "version": "3.11.7"
  }
 },
 "nbformat": 4,
 "nbformat_minor": 5
}
